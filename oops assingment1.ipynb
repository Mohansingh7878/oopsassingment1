{
 "cells": [
  {
   "cell_type": "markdown",
   "id": "e4f2fb76-f688-47c8-aeba-36cd6ac5a5cb",
   "metadata": {},
   "source": [
    "Q1. Explain Class and Object with respect to Object-Oriented Programming. Give a suitable example."
   ]
  },
  {
   "cell_type": "markdown",
   "id": "721823a6-f95d-4d27-b5e2-baaa2abcc786",
   "metadata": {},
   "source": [
    "ANSWER:--  \n",
    "CLASS:------\n",
    "Classes are user-defined data types that act as the blueprint for individual objects, attributes and methods.\n",
    "OBJECT :-----\n",
    "Objects are instances of a class created with specifically defined data. Objects can correspond to real-world objects or an abstract entity.\n"
   ]
  },
  {
   "cell_type": "code",
   "execution_count": 2,
   "id": "83118bd3-d918-47f3-98b7-5714c041ff40",
   "metadata": {},
   "outputs": [],
   "source": [
    "class pwskills:\n",
    "    def data_science(self):\n",
    "        return\"this is my data_science mathhod atrebute\""
   ]
  },
  {
   "cell_type": "code",
   "execution_count": 4,
   "id": "54af83ab-9030-4143-bb89-9e59e52ae8c9",
   "metadata": {},
   "outputs": [],
   "source": [
    "pw = pwskills()"
   ]
  },
  {
   "cell_type": "code",
   "execution_count": 6,
   "id": "6bf2535e-83a7-4bbf-a6c4-ad87502b8f53",
   "metadata": {},
   "outputs": [
    {
     "data": {
      "text/plain": [
       "'this is my data_science mathhod atrebute'"
      ]
     },
     "execution_count": 6,
     "metadata": {},
     "output_type": "execute_result"
    }
   ],
   "source": [
    "pw.data_science()"
   ]
  },
  {
   "cell_type": "code",
   "execution_count": null,
   "id": "3b53111b-4bf1-43d0-b0be-1492295272f8",
   "metadata": {},
   "outputs": [],
   "source": []
  },
  {
   "cell_type": "markdown",
   "id": "105a8e38-d5d2-40a4-be03-627562fd02ba",
   "metadata": {},
   "source": [
    "Q2. Name the four pillars of OOPs."
   ]
  },
  {
   "cell_type": "markdown",
   "id": "ffe3f7ce-6975-421d-9cef-2d9a72ee7f60",
   "metadata": {},
   "source": [
    "ANSWER :---\n",
    "The Four pillars of OOPs:---\n",
    "===abstraction\n",
    "===encapsulation\n",
    "===inheritance\n",
    "===polymorphism"
   ]
  },
  {
   "cell_type": "code",
   "execution_count": null,
   "id": "fa2e7eca-6a05-4ff2-92ce-c61a32105462",
   "metadata": {},
   "outputs": [],
   "source": []
  },
  {
   "cell_type": "markdown",
   "id": "dbb5df01-793a-4768-9db9-bf6dc5f9a851",
   "metadata": {},
   "source": [
    "Q3. Explain why the __init__() function is used. Give a suitable example."
   ]
  },
  {
   "cell_type": "markdown",
   "id": "f40fad9c-504e-413b-9675-db79f8a23bed",
   "metadata": {},
   "source": [
    "ANSWER:----__init__ is a special python method that runs whenever a new object is created.\n",
    "These types of functions are used to initialize the attributes of that class.\n",
    "E.g., if the class is Person, then the attributes will be name, age,hight  etc."
   ]
  },
  {
   "cell_type": "code",
   "execution_count": 7,
   "id": "01e85f78-788c-4daa-98ed-f8cb41d0551b",
   "metadata": {},
   "outputs": [],
   "source": [
    "class person :\n",
    "    def __init__(self , name ,age, hight):\n",
    "        self.name = name\n",
    "        self.age = age\n",
    "        self.hight = hight\n",
    "        "
   ]
  },
  {
   "cell_type": "code",
   "execution_count": 8,
   "id": "263412b9-3ed3-4f45-b9c0-8c176ba7bdc3",
   "metadata": {},
   "outputs": [],
   "source": [
    "human = person(\"MOHAN SINGH BANJARA\"  , 20 , \"170CM\")"
   ]
  },
  {
   "cell_type": "code",
   "execution_count": 9,
   "id": "32538187-5b76-44f3-8731-2d4fb98cdf77",
   "metadata": {},
   "outputs": [
    {
     "data": {
      "text/plain": [
       "'MOHAN SINGH BANJARA'"
      ]
     },
     "execution_count": 9,
     "metadata": {},
     "output_type": "execute_result"
    }
   ],
   "source": [
    "human.name"
   ]
  },
  {
   "cell_type": "code",
   "execution_count": 10,
   "id": "d7bc968e-e21d-4ecc-9576-c4a677a48d73",
   "metadata": {},
   "outputs": [
    {
     "data": {
      "text/plain": [
       "20"
      ]
     },
     "execution_count": 10,
     "metadata": {},
     "output_type": "execute_result"
    }
   ],
   "source": [
    "human.age"
   ]
  },
  {
   "cell_type": "code",
   "execution_count": 12,
   "id": "d15ace5d-31e8-4b7a-ab2d-0d78544372af",
   "metadata": {},
   "outputs": [
    {
     "data": {
      "text/plain": [
       "'170CM'"
      ]
     },
     "execution_count": 12,
     "metadata": {},
     "output_type": "execute_result"
    }
   ],
   "source": [
    "human.hight"
   ]
  },
  {
   "cell_type": "markdown",
   "id": "9518817a-7d94-43c5-ac7b-5a28064e5ece",
   "metadata": {},
   "source": [
    "Q4. Why self is used in OOPs?"
   ]
  },
  {
   "cell_type": "markdown",
   "id": "1a8bab8b-c75d-44d0-ad8b-a5e870eac49a",
   "metadata": {},
   "source": [
    "ANSWER :----The self variable is used to represent the instance of the class which is often used in object-oriented programming. \n",
    "It works as a reference to the object. \n",
    "Python uses the self parameter to refer to instance attributes and methods of the class"
   ]
  },
  {
   "cell_type": "code",
   "execution_count": null,
   "id": "43bfbfd3-f739-45a6-9876-3e753ea81ecb",
   "metadata": {},
   "outputs": [],
   "source": []
  },
  {
   "cell_type": "markdown",
   "id": "3b588d4d-c1cb-46f7-9412-5a6bc5e45ba4",
   "metadata": {},
   "source": [
    "Q5. What is inheritance? Give an example for each type of inheritance."
   ]
  },
  {
   "cell_type": "markdown",
   "id": "1f646a08-e0fb-4605-bcbc-d89cb237f118",
   "metadata": {},
   "source": [
    "Inheritance:---Inheritance is a mechanism in which one class acquires the property of another class.\n",
    "For example, a child inherits the traits of his/her parents. With inheritance, we can reuse the fields and methods of the existing class"
   ]
  },
  {
   "cell_type": "markdown",
   "id": "8dcbe0bb-467c-49b2-b6fe-02f050e24e27",
   "metadata": {},
   "source": [
    "[1] single inheritance"
   ]
  },
  {
   "cell_type": "code",
   "execution_count": 13,
   "id": "7fd1d01f-9b85-43fa-92d7-52cbe37906f1",
   "metadata": {},
   "outputs": [],
   "source": [
    "class pwskills1:\n",
    "    \n",
    "    def data_science_master(self):\n",
    "        return\"this is my single inheritance example\""
   ]
  },
  {
   "cell_type": "code",
   "execution_count": 14,
   "id": "06ec5a3d-4718-4944-ad0a-c7975e4b2efb",
   "metadata": {},
   "outputs": [],
   "source": [
    "class pwskills2(pwskills1):\n",
    "    pass\n"
   ]
  },
  {
   "cell_type": "code",
   "execution_count": 15,
   "id": "652937a8-29d3-4caf-be9d-aa8987d3b3c0",
   "metadata": {},
   "outputs": [],
   "source": [
    "pw1 = pwskills2()"
   ]
  },
  {
   "cell_type": "code",
   "execution_count": 17,
   "id": "b70c5b86-0ad2-4221-8a13-6f05822aa78a",
   "metadata": {},
   "outputs": [
    {
     "data": {
      "text/plain": [
       "'this is my single inheritance example'"
      ]
     },
     "execution_count": 17,
     "metadata": {},
     "output_type": "execute_result"
    }
   ],
   "source": [
    "pw1.data_science_master()"
   ]
  },
  {
   "cell_type": "markdown",
   "id": "c6bec263-9cdf-4bf1-b54b-056f154f0875",
   "metadata": {},
   "source": [
    "[2] MUTIPLE INHERITANCE"
   ]
  },
  {
   "cell_type": "code",
   "execution_count": 19,
   "id": "470178e9-8a41-40e2-bc09-db56de1dc72d",
   "metadata": {},
   "outputs": [],
   "source": [
    "class pwskills3:\n",
    "    def data_analytics(self):\n",
    "        return\"this  class make only for dat analytics student who prepare interview\""
   ]
  },
  {
   "cell_type": "code",
   "execution_count": 21,
   "id": "a6dcc209-0a11-4bf6-870c-f459da07d208",
   "metadata": {},
   "outputs": [],
   "source": [
    "class pwskills4 :\n",
    "    def software_devloper(self):\n",
    "        return\"this classs is make for software devloper who prepare for making website\""
   ]
  },
  {
   "cell_type": "code",
   "execution_count": 22,
   "id": "fd233fc2-7f4b-4bc4-9ac4-c2f0a2ac0dd8",
   "metadata": {},
   "outputs": [],
   "source": [
    "class pwskills5(pwskills3, pwskills4):\n",
    "    pass"
   ]
  },
  {
   "cell_type": "code",
   "execution_count": 24,
   "id": "8fe8e1a5-66c4-486a-af1f-2aa8db98a292",
   "metadata": {},
   "outputs": [],
   "source": [
    "pw2 = pwskills5()"
   ]
  },
  {
   "cell_type": "code",
   "execution_count": 26,
   "id": "b2e4a87f-7c55-441b-91de-474e2d124bc6",
   "metadata": {},
   "outputs": [
    {
     "data": {
      "text/plain": [
       "'this  class make only for dat analytics student who prepare interview'"
      ]
     },
     "execution_count": 26,
     "metadata": {},
     "output_type": "execute_result"
    }
   ],
   "source": [
    "pw2.data_analytics()"
   ]
  },
  {
   "cell_type": "code",
   "execution_count": 27,
   "id": "29139874-e00d-495e-bf8c-37bad1684acb",
   "metadata": {},
   "outputs": [
    {
     "data": {
      "text/plain": [
       "'this classs is make for software devloper who prepare for making website'"
      ]
     },
     "execution_count": 27,
     "metadata": {},
     "output_type": "execute_result"
    }
   ],
   "source": [
    "pw2.software_devloper()"
   ]
  },
  {
   "cell_type": "markdown",
   "id": "5e04ba59-f8b5-49a5-b126-10a7b8091fb1",
   "metadata": {},
   "source": [
    "[3] MULTILEVEL INHERITANCE::------"
   ]
  },
  {
   "cell_type": "code",
   "execution_count": 28,
   "id": "155013b7-6a5f-4b64-afb9-03b081868c28",
   "metadata": {},
   "outputs": [],
   "source": [
    "class data_science_class1:\n",
    "    def python(self):\n",
    "        return\"this is first class of the data science master batch2.0  and name of this class python , this class complate within five  weak .\""
   ]
  },
  {
   "cell_type": "code",
   "execution_count": 29,
   "id": "119e5b6c-d8bd-4adf-a75e-fa89c18486fe",
   "metadata": {},
   "outputs": [],
   "source": [
    "class data_science_class2(data_science_class1):\n",
    "    def machine_learning(self):\n",
    "        return\"this is second class of data science student , name of this class machine learning , and complate within four weak.\"\n",
    "    "
   ]
  },
  {
   "cell_type": "code",
   "execution_count": 30,
   "id": "d24be18d-180c-420f-9f85-27d167a11b98",
   "metadata": {},
   "outputs": [],
   "source": [
    "class data_science_class3(data_science_class2):\n",
    "    def statics(self):\n",
    "        return\"this is statics for data science master . \"\n",
    "    "
   ]
  },
  {
   "cell_type": "code",
   "execution_count": 31,
   "id": "faf94707-0db5-4e71-aa04-92061f6db6eb",
   "metadata": {},
   "outputs": [],
   "source": [
    "class data_science_class4(data_science_class3):\n",
    "    pass"
   ]
  },
  {
   "cell_type": "code",
   "execution_count": 32,
   "id": "efb3466e-cbbb-468b-bb05-fae951a1121f",
   "metadata": {},
   "outputs": [],
   "source": [
    "pwskills = data_science_class4()"
   ]
  },
  {
   "cell_type": "code",
   "execution_count": 34,
   "id": "ad8c7c33-9487-4b3c-a54c-338741a6372a",
   "metadata": {},
   "outputs": [
    {
     "data": {
      "text/plain": [
       "'this is first class of the data science master batch2.0  and name of this class python , this class complate within five  weak .'"
      ]
     },
     "execution_count": 34,
     "metadata": {},
     "output_type": "execute_result"
    }
   ],
   "source": [
    "pwskills.python()"
   ]
  },
  {
   "cell_type": "code",
   "execution_count": 35,
   "id": "9be81304-f461-4429-8dfc-694f40d30cdc",
   "metadata": {},
   "outputs": [
    {
     "data": {
      "text/plain": [
       "'this is second class of data science student , name of this class machine learning , and complate within four weak.'"
      ]
     },
     "execution_count": 35,
     "metadata": {},
     "output_type": "execute_result"
    }
   ],
   "source": [
    "pwskills.machine_learning()"
   ]
  },
  {
   "cell_type": "code",
   "execution_count": 36,
   "id": "7d55c481-6be2-4b04-ad84-76c5ac60fd31",
   "metadata": {},
   "outputs": [
    {
     "data": {
      "text/plain": [
       "'this is statics for data science master . '"
      ]
     },
     "execution_count": 36,
     "metadata": {},
     "output_type": "execute_result"
    }
   ],
   "source": [
    "pwskills.statics()"
   ]
  },
  {
   "cell_type": "code",
   "execution_count": null,
   "id": "4e5a236a-4536-4a9d-b192-009f7fc1b897",
   "metadata": {},
   "outputs": [],
   "source": []
  },
  {
   "cell_type": "code",
   "execution_count": null,
   "id": "3dde4392-cd29-4630-867d-eb93898c600a",
   "metadata": {},
   "outputs": [],
   "source": []
  },
  {
   "cell_type": "code",
   "execution_count": null,
   "id": "de2dd1b1-7afd-46dc-a9c6-4e13019045cc",
   "metadata": {},
   "outputs": [],
   "source": []
  },
  {
   "cell_type": "code",
   "execution_count": null,
   "id": "e37959ee-ebe5-4ea8-9707-1a5e0ac52516",
   "metadata": {},
   "outputs": [],
   "source": []
  },
  {
   "cell_type": "code",
   "execution_count": null,
   "id": "a4ebf071-9bb5-429a-86f0-7e0158ac0877",
   "metadata": {},
   "outputs": [],
   "source": []
  },
  {
   "cell_type": "code",
   "execution_count": null,
   "id": "849cf138-3602-461d-a0f2-02d85feb2262",
   "metadata": {},
   "outputs": [],
   "source": []
  },
  {
   "cell_type": "code",
   "execution_count": null,
   "id": "25687c6c-3eb5-4cb3-ac20-1244021fcbca",
   "metadata": {},
   "outputs": [],
   "source": []
  },
  {
   "cell_type": "code",
   "execution_count": null,
   "id": "897e247f-55dc-4a23-8203-5218aef8a08f",
   "metadata": {},
   "outputs": [],
   "source": []
  },
  {
   "cell_type": "code",
   "execution_count": null,
   "id": "f856785d-945f-4e0f-9f72-74a438dca518",
   "metadata": {},
   "outputs": [],
   "source": []
  },
  {
   "cell_type": "code",
   "execution_count": null,
   "id": "b295b3c9-b0cc-4f6c-9d4c-71eaa3542f3f",
   "metadata": {},
   "outputs": [],
   "source": []
  },
  {
   "cell_type": "code",
   "execution_count": null,
   "id": "431e7b4e-1fc8-4a72-ba96-9d40f15e5857",
   "metadata": {},
   "outputs": [],
   "source": []
  },
  {
   "cell_type": "code",
   "execution_count": null,
   "id": "2c34f518-4f16-4311-8b28-46f4bb9c5a4a",
   "metadata": {},
   "outputs": [],
   "source": []
  },
  {
   "cell_type": "code",
   "execution_count": null,
   "id": "d375ff57-46e2-4052-a474-f4bd4cf0865c",
   "metadata": {},
   "outputs": [],
   "source": []
  },
  {
   "cell_type": "code",
   "execution_count": null,
   "id": "107b0772-fee9-486b-8da2-63970d8f59cf",
   "metadata": {},
   "outputs": [],
   "source": []
  },
  {
   "cell_type": "code",
   "execution_count": null,
   "id": "89669fdb-127b-4ca1-aefa-34b2e3f4cc54",
   "metadata": {},
   "outputs": [],
   "source": []
  },
  {
   "cell_type": "code",
   "execution_count": null,
   "id": "7afc05b5-647d-430e-8d4e-3ad656a30f18",
   "metadata": {},
   "outputs": [],
   "source": []
  },
  {
   "cell_type": "code",
   "execution_count": null,
   "id": "7e52d3ca-1eab-4921-93b4-eb145a5bd1dc",
   "metadata": {},
   "outputs": [],
   "source": []
  }
 ],
 "metadata": {
  "kernelspec": {
   "display_name": "Python 3 (ipykernel)",
   "language": "python",
   "name": "python3"
  },
  "language_info": {
   "codemirror_mode": {
    "name": "ipython",
    "version": 3
   },
   "file_extension": ".py",
   "mimetype": "text/x-python",
   "name": "python",
   "nbconvert_exporter": "python",
   "pygments_lexer": "ipython3",
   "version": "3.10.8"
  }
 },
 "nbformat": 4,
 "nbformat_minor": 5
}
